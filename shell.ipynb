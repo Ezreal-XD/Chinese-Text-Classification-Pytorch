{
 "cells": [
  {
   "cell_type": "code",
   "execution_count": null,
   "metadata": {},
   "outputs": [],
   "source": [
    "import os\n",
    "\n",
    "# python run.py --model TextCNN --embedding random --word True\n",
    "\n",
    "# plus = \"\"\n",
    "# plus = \" --word True\"\n",
    "plus = \" --word True --embedding random\"\n",
    "\n",
    "\n",
    "print(\"=============== Training Model: CNN ===============\\n\")\n",
    "os.system(\"python run.py --model TextCNN\" + plus)\n",
    "#\n",
    "# print(\"=============== Training Model: RNN ===============\\n\")\n",
    "# os.system(\"python run.py --model TextRNN\" + plus)\n",
    "#\n",
    "# print(\"=============== Training Model: RNN_ATT ===============\\n\")\n",
    "# os.system(\"python run.py --model TextRNN_Att\" + plus)\n",
    "#\n",
    "# print(\"=============== Training Model: RCNN ===============\\n\")\n",
    "# os.system(\"python run.py --model TextRCNN\" + plus)\n",
    "\n",
    "# print(\"=============== Training Model: FastText ===============\\n\")\n",
    "# os.system(\"python run.py --model FastText --embedding random\" + plus)\n",
    "\n",
    "# print(\"=============== Training Model: DPCNN ===============\\n\")\n",
    "# os.system(\"python run.py --model DPCNN\" + plus)\n",
    "#\n",
    "# print(\"=============== Training Model: Transformer ===============\\n\")\n",
    "# os.system(\"python run.py --model Transformer\" + plus)\n",
    "\n",
    "\n",
    "\n",
    "\n"
   ]
  }
 ],
 "metadata": {
  "kernelspec": {
   "display_name": "Python 3",
   "language": "python",
   "name": "python3"
  },
  "language_info": {
   "codemirror_mode": {
    "name": "ipython",
    "version": 3
   },
   "file_extension": ".py",
   "mimetype": "text/x-python",
   "name": "python",
   "nbconvert_exporter": "python",
   "pygments_lexer": "ipython3",
   "version": "3.7.3"
  }
 },
 "nbformat": 4,
 "nbformat_minor": 4
}
